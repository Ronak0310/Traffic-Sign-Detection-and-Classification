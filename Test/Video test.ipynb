{
 "cells": [
  {
   "cell_type": "markdown",
   "metadata": {},
   "source": [
    "#  Importing needed libraries"
   ]
  },
  {
   "cell_type": "code",
   "execution_count": 1,
   "metadata": {},
   "outputs": [],
   "source": [
    "import numpy as np \n",
    "import pandas as pd \n",
    "import cv2\n",
    "import time\n",
    "from timeit import default_timer as timer\n",
    "import matplotlib.pyplot as plt\n",
    "import pickle\n",
    "from tensorflow.keras.models import load_model\n",
    "import os"
   ]
  },
  {
   "cell_type": "code",
   "execution_count": 2,
   "metadata": {},
   "outputs": [],
   "source": [
    "from tensorflow.compat.v1 import ConfigProto\n",
    "from tensorflow.compat.v1 import InteractiveSession\n",
    "config = ConfigProto()\n",
    "config.gpu_options.allow_growth = True\n",
    "session = InteractiveSession(config=config)"
   ]
  },
  {
   "cell_type": "markdown",
   "metadata": {},
   "source": [
    "#  Loading *labels*"
   ]
  },
  {
   "cell_type": "code",
   "execution_count": 3,
   "metadata": {},
   "outputs": [
    {
     "name": "stdout",
     "output_type": "stream",
     "text": [
      "   ClassId              SignName\n",
      "0        0  Speed limit (20km/h)\n",
      "1        1  Speed limit (30km/h)\n",
      "2        2  Speed limit (50km/h)\n",
      "3        3  Speed limit (60km/h)\n",
      "4        4  Speed limit (70km/h)\n",
      "\n",
      "Speed limit (20km/h)\n",
      "Speed limit (30km/h)\n"
     ]
    }
   ],
   "source": [
    "labels = pd.read_csv(r'D:\\Study_3\\GTSRB_new\\signnames.csv')\n",
    "\n",
    "# Check point\n",
    "print(labels.head())\n",
    "print()\n",
    "\n",
    "print(labels.iloc[0][1])  # Speed limit (20km/h)\n",
    "print(labels['SignName'][1]) # Speed limit (30km/h)\n"
   ]
  },
  {
   "cell_type": "markdown",
   "metadata": {},
   "source": [
    "#  Loading trained Keras CNN model for Classification"
   ]
  },
  {
   "cell_type": "code",
   "execution_count": 4,
   "metadata": {},
   "outputs": [
    {
     "name": "stdout",
     "output_type": "stream",
     "text": [
      "(1, 32, 32)\n"
     ]
    },
    {
     "data": {
      "text/plain": [
       "<matplotlib.image.AxesImage at 0x1fa0bf55490>"
      ]
     },
     "execution_count": 4,
     "metadata": {},
     "output_type": "execute_result"
    },
    {
     "data": {
      "image/png": "[encoded data removed]",
      "text/plain": [
       "<Figure size 432x288 with 1 Axes>"
      ]
     },
     "metadata": {
      "needs_background": "light"
     },
     "output_type": "display_data"
    }
   ],
   "source": [
    "# Loading trained CNN model to use it later when classifying from 4 groups into one of 43 classes\n",
    "model = load_model(r'D:\\Study_3\\GTSRB_new\\training\\new_model.h5')\n",
    "\n",
    "# Loading mean image to use for preprocessing further (mean image substraction)\n",
    "with open(r'D:\\Study_3\\mean_image_gray.pickle', 'rb') as f:\n",
    "    mean = pickle.load(f) \n",
    "    \n",
    "print(mean['mean_image_gray'].shape) \n",
    "plt.imshow(mean['mean_image_gray'].reshape(32, 32, 1))"
   ]
  },
  {
   "cell_type": "markdown",
   "metadata": {},
   "source": [
    "# Loading YOLO v3 network by OpenCV dnn library"
   ]
  },
  {
   "cell_type": "markdown",
   "metadata": {},
   "source": [
    "## Loading *trained weights* and *cfg file* into the Network"
   ]
  },
  {
   "cell_type": "code",
   "execution_count": 5,
   "metadata": {},
   "outputs": [],
   "source": [
    "path_to_weights = r'D:\\Study_3\\weights\\yolov3_ts_train_last.weights'\n",
    "path_to_cfg = r'D:\\Study_3\\yolov3_ts_test.cfg'\n",
    "\n",
    "# Loading trained YOLO v3 weights and cfg configuration file by 'dnn' library from OpenCV\n",
    "network = cv2.dnn.readNetFromDarknet(path_to_cfg, path_to_weights)\n",
    "\n",
    "# To use with GPU\n",
    "network.setPreferableBackend(cv2.dnn.DNN_BACKEND_CUDA)\n",
    "network.setPreferableTarget(cv2.dnn.DNN_TARGET_CUDA_FP16)"
   ]
  },
  {
   "cell_type": "markdown",
   "metadata": {},
   "source": [
    "## Getting output layers where detections are made "
   ]
  },
  {
   "cell_type": "code",
   "execution_count": 6,
   "metadata": {},
   "outputs": [
    {
     "name": "stdout",
     "output_type": "stream",
     "text": [
      "\n",
      "['yolo_82', 'yolo_94', 'yolo_106']\n"
     ]
    }
   ],
   "source": [
    "# Getting names of all YOLO v3 layers\n",
    "layers_all = network.getLayerNames()\n",
    "\n",
    "# Check point\n",
    "# print(layers_all)\n",
    "\n",
    "# Getting only detection YOLO v3 layers that are 82, 94 and 106\n",
    "layers_names_output = [layers_all[i[0] - 1] for i in network.getUnconnectedOutLayers()]\n",
    "\n",
    "# Check point\n",
    "print()\n",
    "print(layers_names_output)  \n"
   ]
  },
  {
   "cell_type": "markdown",
   "metadata": {},
   "source": [
    "## Setting probability, threshold and colour for bounding boxes"
   ]
  },
  {
   "cell_type": "code",
   "execution_count": 7,
   "metadata": {},
   "outputs": [
    {
     "name": "stdout",
     "output_type": "stream",
     "text": [
      "<class 'numpy.ndarray'>\n",
      "(43, 3)\n",
      "[ 78 212  19]\n"
     ]
    }
   ],
   "source": [
    "# Minimum probability to eliminate weak detections\n",
    "probability_minimum = 0.2\n",
    "\n",
    "# Setting threshold to filtering weak bounding boxes by non-maximum suppression\n",
    "threshold = 0.2\n",
    "\n",
    "# Generating colours for bounding boxes\n",
    "colours = np.random.randint(0, 255, size=(len(labels), 3), dtype='uint8')\n",
    "\n",
    "# Check point\n",
    "print(type(colours))  \n",
    "print(colours.shape)\n",
    "print(colours[0])  \n"
   ]
  },
  {
   "cell_type": "markdown",
   "metadata": {},
   "source": [
    "# Reading input video"
   ]
  },
  {
   "cell_type": "code",
   "execution_count": 12,
   "metadata": {},
   "outputs": [],
   "source": [
    "# Reading video from a file by VideoCapture object of cv2 class\n",
    "video = cv2.VideoCapture(r'C:\\Users\\ronak\\Desktop\\video_for_test\\input_fr.mp4')\n",
    "\n",
    "# Writer that will be used to write processed frames\n",
    "writer = None\n",
    "\n",
    "# Variables for spatial dimensions of the frames\n",
    "h, w = None, None"
   ]
  },
  {
   "cell_type": "code",
   "execution_count": 13,
   "metadata": {},
   "outputs": [],
   "source": [
    "# cut frame preprocessing...\n",
    "def grayscale(img):\n",
    "    img = cv2.cvtColor(img, cv2.COLOR_BGR2GRAY)\n",
    "    return img\n",
    "\n",
    "def equalize(img):\n",
    "    img = cv2.equalizeHist(img)\n",
    "    return img\n",
    "\n",
    "def preprocessing(img):\n",
    "    img = grayscale(img)\n",
    "    img = equalize(img)\n",
    "    # img = img/255\n",
    "    return img"
   ]
  },
  {
   "cell_type": "markdown",
   "metadata": {},
   "source": [
    "# Processing frames in the loop"
   ]
  },
  {
   "cell_type": "code",
   "execution_count": 14,
   "metadata": {},
   "outputs": [
    {
     "name": "stdout",
     "output_type": "stream",
     "text": [
      "Frame number 1 took 0.59359 seconds\n",
      "Frame number 2 took 0.58769 seconds\n",
      "Frame number 3 took 0.58954 seconds\n",
      "Frame number 4 took 0.61808 seconds\n",
      "Frame number 5 took 0.58429 seconds\n",
      "Frame number 6 took 0.58412 seconds\n",
      "Frame number 7 took 0.58314 seconds\n",
      "Frame number 8 took 0.58485 seconds\n",
      "Frame number 9 took 0.58183 seconds\n",
      "Frame number 10 took 0.57891 seconds\n",
      "Frame number 11 took 0.59234 seconds\n",
      "Frame number 12 took 0.58388 seconds\n",
      "Frame number 13 took 0.58161 seconds\n",
      "Frame number 14 took 0.62239 seconds\n",
      "Frame number 15 took 0.58463 seconds\n",
      "Frame number 16 took 0.61265 seconds\n",
      "Frame number 17 took 0.59823 seconds\n",
      "Frame number 18 took 0.62056 seconds\n",
      "Frame number 19 took 0.59286 seconds\n",
      "Frame number 20 took 0.59539 seconds\n",
      "Frame number 21 took 0.57731 seconds\n",
      "Frame number 22 took 0.56943 seconds\n",
      "Frame number 23 took 0.57469 seconds\n",
      "Frame number 24 took 0.58799 seconds\n",
      "Frame number 25 took 0.51744 seconds\n",
      "Frame number 26 took 0.40042 seconds\n",
      "Frame number 27 took 0.40791 seconds\n",
      "Frame number 28 took 0.40237 seconds\n",
      "Frame number 29 took 0.40847 seconds\n",
      "Frame number 30 took 0.39119 seconds\n",
      "Frame number 31 took 0.41977 seconds\n",
      "Frame number 32 took 0.39454 seconds\n",
      "Frame number 33 took 0.41309 seconds\n",
      "Frame number 34 took 0.39176 seconds\n",
      "Frame number 35 took 0.38902 seconds\n",
      "Frame number 36 took 0.39822 seconds\n",
      "Frame number 37 took 0.39829 seconds\n",
      "Frame number 38 took 0.41022 seconds\n",
      "Frame number 39 took 0.40253 seconds\n",
      "Frame number 40 took 0.40121 seconds\n",
      "Frame number 41 took 0.40090 seconds\n",
      "Frame number 42 took 0.41604 seconds\n",
      "Frame number 43 took 0.47290 seconds\n",
      "Frame number 44 took 0.57968 seconds\n",
      "Frame number 45 took 0.58002 seconds\n",
      "Frame number 46 took 0.58416 seconds\n",
      "Frame number 47 took 0.56995 seconds\n",
      "Frame number 48 took 0.58410 seconds\n",
      "Frame number 49 took 0.58902 seconds\n",
      "Frame number 50 took 0.58164 seconds\n",
      "Frame number 51 took 0.58468 seconds\n",
      "Frame number 52 took 0.57620 seconds\n",
      "Frame number 53 took 0.64839 seconds\n",
      "Frame number 54 took 0.82712 seconds\n",
      "Frame number 55 took 0.52875 seconds\n",
      "Frame number 56 took 0.57028 seconds\n",
      "Frame number 57 took 0.70819 seconds\n",
      "Frame number 58 took 1.05633 seconds\n",
      "Frame number 59 took 1.70531 seconds\n",
      "Frame number 60 took 1.07366 seconds\n",
      "Frame number 61 took 0.84984 seconds\n",
      "Frame number 62 took 0.74778 seconds\n",
      "Frame number 63 took 0.76874 seconds\n",
      "Frame number 64 took 0.65101 seconds\n",
      "Frame number 65 took 0.76390 seconds\n",
      "Frame number 66 took 0.73320 seconds\n",
      "Frame number 67 took 0.58461 seconds\n",
      "Frame number 68 took 0.69061 seconds\n",
      "Frame number 69 took 0.70133 seconds\n",
      "Frame number 70 took 0.68858 seconds\n",
      "Frame number 71 took 0.76864 seconds\n",
      "Frame number 72 took 0.71298 seconds\n",
      "Frame number 73 took 0.74981 seconds\n",
      "Frame number 74 took 0.90116 seconds\n",
      "Frame number 75 took 0.83664 seconds\n",
      "Frame number 76 took 0.73858 seconds\n",
      "Frame number 77 took 0.77543 seconds\n",
      "Frame number 78 took 0.74996 seconds\n",
      "Frame number 79 took 0.71801 seconds\n",
      "Frame number 80 took 0.92736 seconds\n",
      "Frame number 81 took 0.86004 seconds\n",
      "Frame number 82 took 0.75321 seconds\n",
      "Frame number 83 took 0.82273 seconds\n",
      "Frame number 84 took 1.05764 seconds\n",
      "Frame number 85 took 0.91360 seconds\n",
      "Frame number 86 took 0.85345 seconds\n",
      "Frame number 87 took 0.88151 seconds\n",
      "Frame number 88 took 0.84256 seconds\n",
      "Frame number 89 took 1.04422 seconds\n",
      "Frame number 90 took 0.90264 seconds\n",
      "Frame number 91 took 0.85686 seconds\n",
      "Frame number 92 took 0.90510 seconds\n",
      "Frame number 93 took 1.28365 seconds\n",
      "Frame number 94 took 0.66657 seconds\n",
      "Frame number 95 took 0.72772 seconds\n",
      "Frame number 96 took 0.80393 seconds\n",
      "Frame number 97 took 0.75851 seconds\n",
      "Frame number 98 took 0.83398 seconds\n",
      "Frame number 99 took 1.06600 seconds\n",
      "Frame number 100 took 0.84520 seconds\n",
      "Frame number 101 took 0.86959 seconds\n"
     ]
    }
   ],
   "source": [
    "%matplotlib inline\n",
    "\n",
    "# Setting default size of plots\n",
    "plt.rcParams['figure.figsize'] = (3, 3)\n",
    "\n",
    "# Variable for counting total amount of frames\n",
    "f = 0\n",
    "\n",
    "# Variable for counting total processing time\n",
    "t = 0\n",
    "\n",
    "# Catching frames in the loop\n",
    "while True:\n",
    "    # Capturing frames one-by-one\n",
    "    ret, frame = video.read()\n",
    "\n",
    "    # If the frame was not retrieved\n",
    "    if not ret:\n",
    "        break\n",
    "       \n",
    "    # Getting spatial dimensions of the frame for the first time\n",
    "    if w is None or h is None:\n",
    "        # Slicing two elements from tuple\n",
    "        h, w = frame.shape[:2]\n",
    "\n",
    "    # Blob from current frame\n",
    "    blob = cv2.dnn.blobFromImage(frame, 1 / 255.0, (416, 416), swapRB=True, crop=False)\n",
    "\n",
    "    # Forward pass with blob through output layers\n",
    "    network.setInput(blob)\n",
    "    start = time.time()\n",
    "    output_from_network = network.forward(layers_names_output)\n",
    "    end = time.time()\n",
    "\n",
    "    # Increasing counters\n",
    "    f += 1\n",
    "    t += end - start\n",
    "\n",
    "    # Spent time for current frame\n",
    "    print('Frame number {0} took {1:.5f} seconds'.format(f, end - start))\n",
    "\n",
    "    # Lists for detected bounding boxes, confidences and class's number\n",
    "    bounding_boxes = []\n",
    "    confidences = []\n",
    "    class_numbers = []\n",
    "\n",
    "    # Going through all output layers after feed forward pass\n",
    "    for result in output_from_network:\n",
    "        # Going through all detections from current output layer\n",
    "        for detected_objects in result:\n",
    "            # Getting 80 classes' probabilities for current detected object\n",
    "            scores = detected_objects[5:]\n",
    "            # Getting index of the class with the maximum value of probability\n",
    "            class_current = np.argmax(scores)\n",
    "            # Getting value of probability for defined class\n",
    "            confidence_current = scores[class_current]\n",
    "\n",
    "            # Eliminating weak predictions by minimum probability\n",
    "            if confidence_current > probability_minimum:\n",
    "                # Scaling bounding box coordinates to the initial frame size\n",
    "                box_current = detected_objects[0:4] * np.array([w, h, w, h])\n",
    "\n",
    "                # Getting top left corner coordinates\n",
    "                x_center, y_center, box_width, box_height = box_current\n",
    "                x_min = int(x_center - (box_width / 2))\n",
    "                y_min = int(y_center - (box_height / 2))\n",
    "\n",
    "                # Adding results into prepared lists\n",
    "                bounding_boxes.append([x_min, y_min, int(box_width), int(box_height)])\n",
    "                confidences.append(float(confidence_current))\n",
    "                class_numbers.append(class_current)\n",
    "                \n",
    "\n",
    "    # Implementing non-maximum suppression of given bounding boxes\n",
    "    results = cv2.dnn.NMSBoxes(bounding_boxes, confidences, probability_minimum, threshold)\n",
    "\n",
    "    # Checking if there is any detected object been left\n",
    "    if len(results) > 0:\n",
    "        # Going through indexes of results\n",
    "        for i in results.flatten():\n",
    "            # Bounding box coordinates, its width and height\n",
    "            x_min, y_min = bounding_boxes[i][0], bounding_boxes[i][1]\n",
    "            box_width, box_height = bounding_boxes[i][2], bounding_boxes[i][3]\n",
    "            \n",
    "            \n",
    "            # Cut fragment with Traffic Sign\n",
    "            c_ts = frame[y_min:y_min+int(box_height), x_min:x_min+int(box_width), :]\n",
    "\n",
    "            \n",
    "            if c_ts.shape[:1] == (0,) or c_ts.shape[1:2] == (0,):\n",
    "                pass\n",
    "            else:\n",
    "                c_ts = preprocessing(c_ts)\n",
    "                # Getting preprocessed blob with Traffic Sign of needed shape\n",
    "                blob_ts = cv2.dnn.blobFromImage(c_ts, 1 / 255.0, size=(32, 32), swapRB=True, crop=False)\n",
    "                blob_ts[0] = blob_ts[0, :, :, :] - mean['mean_image_gray']\n",
    "                blob_ts = blob_ts.transpose(0, 2, 3, 1)\n",
    "\n",
    "                # Feeding to the Keras CNN model to get predicted label among 43 classes\n",
    "                scores = model.predict(blob_ts)\n",
    "\n",
    "                # Scores is given for image with 43 numbers of predictions for each class\n",
    "                # Getting only one class with maximum value\n",
    "                prediction = np.argmax(scores)\n",
    "                # print(labels['SignName'][prediction])\n",
    "\n",
    "\n",
    "                # Colour for current bounding box\n",
    "                colour_box_current = colours[class_numbers[i]].tolist()\n",
    "\n",
    "                # Drawing bounding box on the original current frame\n",
    "                cv2.rectangle(frame, (x_min, y_min),\n",
    "                              (x_min + box_width, y_min + box_height),\n",
    "                              colour_box_current, 2)\n",
    "\n",
    "                # Preparing text with label and confidence for current bounding box\n",
    "                text_box_current = '{}: {:.4f}'.format(labels['SignName'][prediction],\n",
    "                                                       confidences[i])\n",
    "\n",
    "                # Putting text with label and confidence on the original image\n",
    "                cv2.putText(frame, text_box_current, (x_min, y_min - 5),\n",
    "                            cv2.FONT_HERSHEY_SIMPLEX, 0.5, colour_box_current, 2)\n",
    "\n",
    "\n",
    "    # Initializing writer only once\n",
    "    if writer is None:\n",
    "        fourcc = cv2.VideoWriter_fourcc(*'mp4v')\n",
    "\n",
    "        # Writing current processed frame into the video file\n",
    "        writer = cv2.VideoWriter(r'C:\\Users\\ronak\\Desktop\\video_for_test\\fr_result.mp4', fourcc, 25,\n",
    "                                 (frame.shape[1], frame.shape[0]), True)\n",
    "\n",
    "    # Write processed current frame to the file\n",
    "    writer.write(frame)\n",
    "\n",
    "\n",
    "# Releasing video reader and writer\n",
    "video.release()\n",
    "writer.release()"
   ]
  },
  {
   "cell_type": "markdown",
   "metadata": {},
   "source": [
    "# FPS results"
   ]
  },
  {
   "cell_type": "code",
   "execution_count": 15,
   "metadata": {},
   "outputs": [
    {
     "name": "stdout",
     "output_type": "stream",
     "text": [
      "Total number of frames 101\n",
      "Total amount of time 67.97068 seconds\n",
      "FPS: 1.5\n"
     ]
    }
   ],
   "source": [
    "print('Total number of frames', f)\n",
    "print('Total amount of time {:.5f} seconds'.format(t))\n",
    "print('FPS:', round((f / t), 1))"
   ]
  },
  {
   "cell_type": "code",
   "execution_count": 16,
   "metadata": {},
   "outputs": [
    {
     "data": {
      "text/html": [
       "<a href='C:\\Users\\ronak\\Desktop\\video_for_test\\fr_result.mp4' target='_blank'>C:\\Users\\ronak\\Desktop\\video_for_test\\fr_result.mp4</a><br>"
      ],
      "text/plain": [
       "C:\\Users\\ronak\\Desktop\\video_for_test\\fr_result.mp4"
      ]
     },
     "execution_count": 16,
     "metadata": {},
     "output_type": "execute_result"
    }
   ],
   "source": [
    "# Saving locally without committing\n",
    "from IPython.display import FileLink\n",
    "\n",
    "FileLink(r'C:\\Users\\ronak\\Desktop\\video_for_test\\fr_result.mp4')"
   ]
  },
  {
   "cell_type": "markdown",
   "metadata": {},
   "source": [
    "# Result Video "
   ]
  },
  {
   "cell_type": "code",
   "execution_count": 33,
   "metadata": {},
   "outputs": [],
   "source": [
    "from IPython.display import Video\n",
    "\n",
    "Video(r\"C:\\Users\\ronak\\Desktop\\video_for_test\\fr_result.mp4\", width=1000, height=576, embed=True)\n"
   ]
  }
 ],
 "metadata": {
  "kernelspec": {
   "display_name": "Python 3",
   "language": "python",
   "name": "python3"
  },
  "language_info": {
   "codemirror_mode": {
    "name": "ipython",
    "version": 3
   },
   "file_extension": ".py",
   "mimetype": "text/x-python",
   "name": "python",
   "nbconvert_exporter": "python",
   "pygments_lexer": "ipython3",
   "version": "3.8.5"
  }
 },
 "nbformat": 4,
 "nbformat_minor": 4
}
